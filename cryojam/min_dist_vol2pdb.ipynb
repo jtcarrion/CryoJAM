{
 "cells": [
  {
   "cell_type": "code",
   "execution_count": null,
   "id": "4fd1bf45-c557-48d2-b092-dd692fc7b205",
   "metadata": {},
   "outputs": [],
   "source": [
    "# infer\n",
    "from postprocess import * \n",
    "'''\n",
    "prediction = []\n",
    "tru_ca = []\n",
    "\n",
    "with torch.no_grad():\n",
    "    homolog_ca = sample['homolog_ca'].to(device)[None, :]\n",
    "    true_vol = sample['true_vol'].to(device)[None, :]\n",
    "    tru_ca = sample['true_ca'].to(device)[None, :]\n",
    "\n",
    "    inputs_train = torch.stack((homolog_ca, true_vol), dim=1)\n",
    "        \n",
    "    # Forward pass\n",
    "    outputs_train = model(inputs_train)\n",
    "    homolog_ca_predictions = outputs_train[:, :1, :, :, :]\n",
    "    prediction = apply_gaussian_smoothing(homolog_ca_predictions.squeeze())\n",
    "'''\n",
    "# Example usage\n",
    "min_dist = 1\n",
    "\n",
    "print(prediction.shape)\n",
    "print(tru_ca.shape)\n",
    "\n",
    "binary_predictions = binarize_predictions(prediction, tru_ca, min_dist)\n",
    "print(binary_predictions.shape)"
   ]
  },
  {
   "cell_type": "code",
   "execution_count": null,
   "id": "67d013c6-9d3c-47d5-81db-c50d743d45b3",
   "metadata": {},
   "outputs": [],
   "source": [
    "# Check some of the array values\n",
    "print(\"Unique values in the predicted array:\", np.unique(binary_predictions))\n",
    "print(\"Sum of values in the predicted array:\", np.sum(binary_predictions))\n",
    "\n",
    "# Ensure indices are as expected\n",
    "print(\"Indices with value 1:\", np.argwhere(binary_predictions == 1))\n"
   ]
  },
  {
   "cell_type": "code",
   "execution_count": null,
   "id": "5cbf4ec8-ef40-4314-8e2a-f041a70a2b94",
   "metadata": {},
   "outputs": [],
   "source": [
    "import plotly.graph_objects as go\n",
    "\n",
    "# coords_unsmoothed = np.array(np.where(homolog_ca_predictions.squeeze().cpu().numpy() > 0.15))\n",
    "\n",
    "# Create a 3D scatter plot for the true_ca_coords\n",
    "scatter1 = go.Scatter3d(x=true_ca_coords[0, :], \n",
    "                        y=true_ca_coords[1, :], \n",
    "                        z=true_ca_coords[2, :], \n",
    "                        mode='markers',\n",
    "                        marker=dict(size=6, color='blue'), \n",
    "                        opacity=0.7, \n",
    "                        name = \"true\")\n",
    "\n",
    "# Create a 3D scatter plot for the coords_prelim\n",
    "scatter2 = go.Scatter3d(x=test_indices[:, 0],\n",
    "                        y=test_indices[:, 1],\n",
    "                        z=test_indices[:, 2],\n",
    "                        mode='markers',\n",
    "                        marker=dict(size=6, color='red'),\n",
    "                        opacity=0.7, \n",
    "                        name=\"prediction\")\n",
    "\n",
    "# Create a layout\n",
    "layout = go.Layout(scene=dict(xaxis_title='X',\n",
    "                              yaxis_title='Y',\n",
    "                              zaxis_title='Z'))\n",
    "\n",
    "# Create a figure and add the scatter plots\n",
    "fig = go.Figure(data=[scatter1, scatter2], \n",
    "                layout=layout)\n",
    "\n",
    "# Show the plot\n",
    "fig.show()"
   ]
  }
 ],
 "metadata": {
  "kernelspec": {
   "display_name": "Python 3 (ipykernel)",
   "language": "python",
   "name": "python3"
  },
  "language_info": {
   "codemirror_mode": {
    "name": "ipython",
    "version": 3
   },
   "file_extension": ".py",
   "mimetype": "text/x-python",
   "name": "python",
   "nbconvert_exporter": "python",
   "pygments_lexer": "ipython3",
   "version": "3.10.12"
  }
 },
 "nbformat": 4,
 "nbformat_minor": 5
}
